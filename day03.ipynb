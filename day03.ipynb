{
 "cells": [
  {
   "cell_type": "code",
   "execution_count": 1,
   "id": "4bdda455",
   "metadata": {},
   "outputs": [
    {
     "name": "stdout",
     "output_type": "stream",
     "text": [
      "Calling greet\n",
      "Hello, Eeesa\n"
     ]
    }
   ],
   "source": [
    "def logger(func):\n",
    "    def wrapper(*args, **kwargs):\n",
    "        print(f\"Calling {func.__name__}\")\n",
    "        return func(*args, **kwargs)\n",
    "    return wrapper\n",
    "\n",
    "@logger\n",
    "def greet(name):\n",
    "    return f\"Hello, {name}\"\n",
    "\n",
    "print(greet(\"Eeesa\"))"
   ]
  },
  {
   "cell_type": "code",
   "execution_count": 2,
   "id": "8d9f468a",
   "metadata": {},
   "outputs": [],
   "source": [
    "class FileManager:\n",
    "    def __init__(self, filename, mode):\n",
    "        self.filename = filename\n",
    "        self.mode = mode\n",
    "    \n",
    "    def __enter__(self):\n",
    "        self.file = open(self.filename, self.mode)\n",
    "        return self.file\n",
    "    \n",
    "    def __exit__(self, exc_type, exc_value, traceback):\n",
    "        self.file.close()\n",
    "\n",
    "with FileManager(\"test.txt\", \"w\") as f:\n",
    "    f.write(\"Advanced Python!\")\n"
   ]
  },
  {
   "cell_type": "code",
   "execution_count": 3,
   "id": "c6a1546d",
   "metadata": {},
   "outputs": [
    {
     "name": "stdout",
     "output_type": "stream",
     "text": [
      "Metaclass\n"
     ]
    }
   ],
   "source": [
    "class Meta(type):\n",
    "    def __new__(cls, name, bases, dct):\n",
    "        dct['created_by'] = \"Metaclass\"\n",
    "        return super().__new__(cls, name, bases, dct)\n",
    "\n",
    "class MyClass(metaclass=Meta):\n",
    "    pass\n",
    "\n",
    "print(MyClass.created_by)\n"
   ]
  },
  {
   "cell_type": "code",
   "execution_count": 6,
   "id": "899e1741",
   "metadata": {},
   "outputs": [],
   "source": [
    "from multiprocessing import Process\n",
    "\n",
    "def worker(name):\n",
    "    print(f\"Worker {name} is running\")\n",
    "\n",
    "if __name__ == \"__main__\":\n",
    "    p1 = Process(target=worker, args=(\"A\",))\n",
    "    p1.start()\n",
    "    p1.join()\n"
   ]
  }
 ],
 "metadata": {
  "kernelspec": {
   "display_name": "base",
   "language": "python",
   "name": "python3"
  },
  "language_info": {
   "codemirror_mode": {
    "name": "ipython",
    "version": 3
   },
   "file_extension": ".py",
   "mimetype": "text/x-python",
   "name": "python",
   "nbconvert_exporter": "python",
   "pygments_lexer": "ipython3",
   "version": "3.12.7"
  }
 },
 "nbformat": 4,
 "nbformat_minor": 5
}
