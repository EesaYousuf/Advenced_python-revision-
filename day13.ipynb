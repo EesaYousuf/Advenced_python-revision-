{
 "cells": [
  {
   "cell_type": "code",
   "execution_count": 1,
   "id": "23e30f58",
   "metadata": {},
   "outputs": [
    {
     "name": "stdout",
     "output_type": "stream",
     "text": [
      "(10, 10, 20, 'tiger', 'lion', 'giraffe', 'tiger')\n"
     ]
    }
   ],
   "source": [
    "anamils=(10,10,20,'tiger','lion','giraffe','tiger')\n",
    "print(anamils)"
   ]
  },
  {
   "cell_type": "code",
   "execution_count": 4,
   "id": "bc9d2146",
   "metadata": {},
   "outputs": [
    {
     "data": {
      "text/plain": [
       "20"
      ]
     },
     "execution_count": 4,
     "metadata": {},
     "output_type": "execute_result"
    }
   ],
   "source": [
    "anamils[2]\n"
   ]
  },
  {
   "cell_type": "code",
   "execution_count": 5,
   "id": "169ee7db",
   "metadata": {},
   "outputs": [
    {
     "name": "stdout",
     "output_type": "stream",
     "text": [
      "{70, 40, 10, 80, 50, 20, 90, 60, 30}\n"
     ]
    }
   ],
   "source": [
    "mysets={10,20,30,40,50,60,70,80,90}\n",
    "print(mysets)"
   ]
  },
  {
   "cell_type": "markdown",
   "id": "d8293dcb",
   "metadata": {},
   "source": [
    "how to access set elements"
   ]
  },
  {
   "cell_type": "code",
   "execution_count": 6,
   "id": "7baca67d",
   "metadata": {},
   "outputs": [
    {
     "name": "stdout",
     "output_type": "stream",
     "text": [
      "using '|': {1, 2, 3, 4, 5, 6}\n",
      "using union(): {1, 2, 3, 4, 5, 6}\n"
     ]
    }
   ],
   "source": [
    "A = {1, 2, 3, 4}\n",
    "B = {3, 4, 5, 6}\n",
    "\n",
    "# Using '|' operator\n",
    "res1 = A | B\n",
    "print(\"using '|':\", res1)\n",
    "\n",
    "# Using union() method\n",
    "res2 = A.union(B)\n",
    "print(\"using union():\",res2)"
   ]
  },
  {
   "cell_type": "code",
   "execution_count": 7,
   "id": "cba0fc6f",
   "metadata": {},
   "outputs": [
    {
     "name": "stdout",
     "output_type": "stream",
     "text": [
      "using '&': {3, 4}\n",
      "using intersection(): {3, 4}\n"
     ]
    }
   ],
   "source": [
    "A = {1, 2, 3, 4}\n",
    "B = {3, 4, 5, 6}\n",
    "\n",
    "# Using '&' operator\n",
    "res1 = A & B\n",
    "print(\"using '&':\",res1)\n",
    "\n",
    "# Using intersection() method\n",
    "res2 = A.intersection(B)\n",
    "print(\"using intersection():\",res2)"
   ]
  },
  {
   "cell_type": "code",
   "execution_count": 8,
   "id": "a7fdfacd",
   "metadata": {},
   "outputs": [
    {
     "name": "stdout",
     "output_type": "stream",
     "text": [
      "using '-': {1, 2}\n",
      "using difference(): {1, 2}\n"
     ]
    }
   ],
   "source": [
    "A = {1, 2, 3, 4}\n",
    "B = {3, 4, 5, 6}\n",
    "\n",
    "# Using '-' operator\n",
    "res1 = A - B\n",
    "print(\"using '-':\", res1)\n",
    "\n",
    "# Using difference() method\n",
    "res2 = A.difference(B)\n",
    "print(\"using difference():\", res2)"
   ]
  }
 ],
 "metadata": {
  "kernelspec": {
   "display_name": "base",
   "language": "python",
   "name": "python3"
  },
  "language_info": {
   "codemirror_mode": {
    "name": "ipython",
    "version": 3
   },
   "file_extension": ".py",
   "mimetype": "text/x-python",
   "name": "python",
   "nbconvert_exporter": "python",
   "pygments_lexer": "ipython3",
   "version": "3.12.7"
  }
 },
 "nbformat": 4,
 "nbformat_minor": 5
}
