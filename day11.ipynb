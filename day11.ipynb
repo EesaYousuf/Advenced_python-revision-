{
 "cells": [
  {
   "cell_type": "code",
   "execution_count": 1,
   "id": "3ea6b94c",
   "metadata": {},
   "outputs": [
    {
     "name": "stdout",
     "output_type": "stream",
     "text": [
      "Matrix Transpose: [(1, 4), (2, 5), (3, 6)]\n"
     ]
    }
   ],
   "source": [
    "# Nested lists (matrix)\n",
    "matrix = [[1, 2, 3], [4, 5, 6]]\n",
    "print(\"Matrix Transpose:\", list(zip(*matrix)))\n"
   ]
  },
  {
   "cell_type": "code",
   "execution_count": 2,
   "id": "f969e7c2",
   "metadata": {},
   "outputs": [
    {
     "name": "stdout",
     "output_type": "stream",
     "text": [
      "Even Squares: [0, 4, 16, 36, 64]\n"
     ]
    }
   ],
   "source": [
    "# List comprehension\n",
    "squares = [x**2 for x in range(10) if x % 2 == 0]\n",
    "print(\"Even Squares:\", squares)\n"
   ]
  }
 ],
 "metadata": {
  "kernelspec": {
   "display_name": "base",
   "language": "python",
   "name": "python3"
  },
  "language_info": {
   "codemirror_mode": {
    "name": "ipython",
    "version": 3
   },
   "file_extension": ".py",
   "mimetype": "text/x-python",
   "name": "python",
   "nbconvert_exporter": "python",
   "pygments_lexer": "ipython3",
   "version": "3.12.7"
  }
 },
 "nbformat": 4,
 "nbformat_minor": 5
}
