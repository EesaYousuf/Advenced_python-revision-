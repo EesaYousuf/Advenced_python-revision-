{
 "cells": [
  {
   "cell_type": "code",
   "execution_count": null,
   "id": "3ea6b94c",
   "metadata": {},
   "outputs": [],
   "source": [
    "# Nested lists (matrix)\n",
    "matrix = [[1, 2, 3], [4, 5, 6]]\n",
    "print(\"Matrix Transpose:\", list(zip(*matrix)))\n"
   ]
  }
 ],
 "metadata": {
  "kernelspec": {
   "display_name": "base",
   "language": "python",
   "name": "python3"
  },
  "language_info": {
   "name": "python",
   "version": "3.12.7"
  }
 },
 "nbformat": 4,
 "nbformat_minor": 5
}
