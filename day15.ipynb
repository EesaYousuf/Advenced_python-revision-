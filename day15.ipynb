{
 "cells": [
  {
   "cell_type": "code",
   "execution_count": 1,
   "id": "b8f64990",
   "metadata": {},
   "outputs": [
    {
     "name": "stdout",
     "output_type": "stream",
     "text": [
      "Hello, Eeesa\n",
      "Hello, Python\n"
     ]
    }
   ],
   "source": [
    "def greet(name):\n",
    "    return f\"Hello, {name}\"\n",
    "\n",
    "# Assigning function to a variable\n",
    "say_hello = greet\n",
    "print(say_hello(\"Eeesa\"))   # Hello, Eeesa\n",
    "\n",
    "# Passing function as argument\n",
    "def executor(func, value):\n",
    "    return func(value)\n",
    "\n",
    "print(executor(greet, \"Python\"))  # Hello, Python\n"
   ]
  }
 ],
 "metadata": {
  "kernelspec": {
   "display_name": "base",
   "language": "python",
   "name": "python3"
  },
  "language_info": {
   "codemirror_mode": {
    "name": "ipython",
    "version": 3
   },
   "file_extension": ".py",
   "mimetype": "text/x-python",
   "name": "python",
   "nbconvert_exporter": "python",
   "pygments_lexer": "ipython3",
   "version": "3.12.7"
  }
 },
 "nbformat": 4,
 "nbformat_minor": 5
}
