{
 "cells": [
  {
   "cell_type": "code",
   "execution_count": 1,
   "id": "67045b18",
   "metadata": {},
   "outputs": [],
   "source": [
    "from typing import List, TypeVar\n"
   ]
  },
  {
   "cell_type": "code",
   "execution_count": 2,
   "id": "df4759ca",
   "metadata": {},
   "outputs": [],
   "source": [
    "T = TypeVar(\"T\")\n",
    "\n",
    "def reverse_list(items: List[T]) -> List[T]:\n",
    "    return items[::-1]"
   ]
  },
  {
   "cell_type": "code",
   "execution_count": 3,
   "id": "75c11ab6",
   "metadata": {},
   "outputs": [
    {
     "name": "stdout",
     "output_type": "stream",
     "text": [
      "[3, 2, 1]\n",
      "['c', 'b', 'a']\n"
     ]
    }
   ],
   "source": [
    "print(reverse_list([1, 2, 3]))\n",
    "print(reverse_list([\"a\", \"b\", \"c\"]))\n"
   ]
  },
  {
   "cell_type": "code",
   "execution_count": 4,
   "id": "8c8f95fe",
   "metadata": {},
   "outputs": [],
   "source": [
    "from multiprocessing import Process\n",
    "import time\n"
   ]
  },
  {
   "cell_type": "code",
   "execution_count": 5,
   "id": "b1c69b59",
   "metadata": {},
   "outputs": [],
   "source": [
    "def worker(n):\n",
    "    print(f\"Task {n} starting\")\n",
    "    time.sleep(2)\n",
    "    print(f\"Task {n} done\")\n"
   ]
  },
  {
   "cell_type": "code",
   "execution_count": 7,
   "id": "48483755",
   "metadata": {},
   "outputs": [],
   "source": [
    "processes = []\n",
    "for i in range(3):\n",
    "    p = Process(target=worker, args=(i,))\n",
    "    processes.append(p)\n",
    "    p.start()\n",
    "\n",
    "for p in processes:\n",
    "    p.join()"
   ]
  },
  {
   "cell_type": "code",
   "execution_count": 9,
   "id": "579cf305",
   "metadata": {},
   "outputs": [
    {
     "name": "stdout",
     "output_type": "stream",
     "text": [
      "25\n"
     ]
    }
   ],
   "source": [
    "class Celsius:\n",
    "    def __get__(self, obj, objtype=None):\n",
    "        return obj._temp\n",
    "    def __set__(self, obj, value):\n",
    "        if value < -273.15:\n",
    "            raise ValueError(\"Temperature below absolute zero!\")\n",
    "        obj._temp = value\n",
    "\n",
    "class Temperature:\n",
    "    temp = Celsius()\n",
    "\n",
    "t = Temperature()\n",
    "t.temp = 25\n",
    "print(t.temp)  # 25\n",
    "t.temp = -200   # works fine\n",
    " # ❌ raises error\n"
   ]
  }
 ],
 "metadata": {
  "kernelspec": {
   "display_name": "base",
   "language": "python",
   "name": "python3"
  },
  "language_info": {
   "codemirror_mode": {
    "name": "ipython",
    "version": 3
   },
   "file_extension": ".py",
   "mimetype": "text/x-python",
   "name": "python",
   "nbconvert_exporter": "python",
   "pygments_lexer": "ipython3",
   "version": "3.12.7"
  }
 },
 "nbformat": 4,
 "nbformat_minor": 5
}
