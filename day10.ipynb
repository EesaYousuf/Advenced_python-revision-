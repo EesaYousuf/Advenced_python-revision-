{
 "cells": [
  {
   "cell_type": "code",
   "execution_count": 1,
   "id": "67045b18",
   "metadata": {},
   "outputs": [],
   "source": [
    "from typing import List, TypeVar\n"
   ]
  },
  {
   "cell_type": "code",
   "execution_count": 2,
   "id": "df4759ca",
   "metadata": {},
   "outputs": [],
   "source": [
    "T = TypeVar(\"T\")\n",
    "\n",
    "def reverse_list(items: List[T]) -> List[T]:\n",
    "    return items[::-1]"
   ]
  }
 ],
 "metadata": {
  "kernelspec": {
   "display_name": "base",
   "language": "python",
   "name": "python3"
  },
  "language_info": {
   "codemirror_mode": {
    "name": "ipython",
    "version": 3
   },
   "file_extension": ".py",
   "mimetype": "text/x-python",
   "name": "python",
   "nbconvert_exporter": "python",
   "pygments_lexer": "ipython3",
   "version": "3.12.7"
  }
 },
 "nbformat": 4,
 "nbformat_minor": 5
}
