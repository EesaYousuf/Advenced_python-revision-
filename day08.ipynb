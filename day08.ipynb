{
 "cells": [
  {
   "cell_type": "markdown",
   "id": "52d6f8fb",
   "metadata": {},
   "source": [
    "Decorators"
   ]
  }
 ],
 "metadata": {
  "language_info": {
   "name": "python"
  }
 },
 "nbformat": 4,
 "nbformat_minor": 5
}
