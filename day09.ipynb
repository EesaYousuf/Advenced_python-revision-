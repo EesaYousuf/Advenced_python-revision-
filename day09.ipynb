{
 "cells": [
  {
   "cell_type": "markdown",
   "id": "17c615ce",
   "metadata": {},
   "source": [
    "Calculate Area of a Circle"
   ]
  }
 ],
 "metadata": {
  "language_info": {
   "name": "python"
  }
 },
 "nbformat": 4,
 "nbformat_minor": 5
}
