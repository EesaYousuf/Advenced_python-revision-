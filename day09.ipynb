{
 "cells": [
  {
   "cell_type": "markdown",
   "id": "17c615ce",
   "metadata": {},
   "source": [
    "Calculate Area of a Circle"
   ]
  },
  {
   "cell_type": "code",
   "execution_count": null,
   "id": "3da0ecb2",
   "metadata": {},
   "outputs": [],
   "source": [
    "# Area of a Circle Calculator\n",
    "\n",
    "# Step 1: Take input from the user (allow decimals with float)\n",
    "radius = float(input(\"Enter the radius of the circle: \"))\n",
    "\n",
    "# Step 2: Process (calculate area using formula: πr²)\n",
    "pi = 3.14159\n",
    "area = pi * (radius ** 2)\n",
    "\n",
    "# Step 3: Output the result\n",
    "print(f\"The area of the circle with radius {radius} is {area:.2f}\")\n"
   ]
  }
 ],
 "metadata": {
  "kernelspec": {
   "display_name": "base",
   "language": "python",
   "name": "python3"
  },
  "language_info": {
   "codemirror_mode": {
    "name": "ipython",
    "version": 3
   },
   "file_extension": ".py",
   "mimetype": "text/x-python",
   "name": "python",
   "nbconvert_exporter": "python",
   "pygments_lexer": "ipython3",
   "version": "3.12.7"
  }
 },
 "nbformat": 4,
 "nbformat_minor": 5
}
