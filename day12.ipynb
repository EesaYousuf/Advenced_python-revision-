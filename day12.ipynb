{
 "cells": [
  {
   "cell_type": "markdown",
   "id": "150e004e",
   "metadata": {},
   "source": [
    "lists"
   ]
  },
  {
   "cell_type": "code",
   "execution_count": 1,
   "id": "4ab22a6b",
   "metadata": {},
   "outputs": [
    {
     "name": "stdout",
     "output_type": "stream",
     "text": [
      "[10, 20, 30, 43, 'sana', 'Allah', 12]\n"
     ]
    }
   ],
   "source": [
    "mylist=[10,20,30,43,'sana','Allah',12]\n",
    "print(mylist)"
   ]
  },
  {
   "cell_type": "markdown",
   "id": "f91f6d24",
   "metadata": {},
   "source": [
    "<!-- operations in list -->"
   ]
  },
  {
   "cell_type": "code",
   "execution_count": 3,
   "id": "d9743cf0",
   "metadata": {},
   "outputs": [
    {
     "name": "stdout",
     "output_type": "stream",
     "text": [
      "[10, 20, 30, 43, 'sana', 'Allah', 12, 1000]\n"
     ]
    }
   ],
   "source": [
    "mylist.append(1000)\n",
    "print(mylist)"
   ]
  },
  {
   "cell_type": "code",
   "execution_count": 4,
   "id": "d85f60a2",
   "metadata": {},
   "outputs": [
    {
     "data": {
      "text/plain": [
       "[10, 20, 30, 43, 'sana', 200, 'Allah', 12, 1000]"
      ]
     },
     "execution_count": 4,
     "metadata": {},
     "output_type": "execute_result"
    }
   ],
   "source": [
    "mylist.insert(5,200)\n",
    "mylist"
   ]
  },
  {
   "cell_type": "code",
   "execution_count": 5,
   "id": "d9c55910",
   "metadata": {},
   "outputs": [
    {
     "data": {
      "text/plain": [
       "[10, 20, 30, 43, 'sana', 200, 'Allah', 12, 1000]"
      ]
     },
     "execution_count": 5,
     "metadata": {},
     "output_type": "execute_result"
    }
   ],
   "source": [
    "mylist[2:5]\n",
    "mylist"
   ]
  },
  {
   "cell_type": "code",
   "execution_count": 10,
   "id": "1d6acbe3",
   "metadata": {},
   "outputs": [],
   "source": [
    "lastlist=[100,300,300,400,200,'sana','adeeba','saima']"
   ]
  },
  {
   "cell_type": "code",
   "execution_count": 11,
   "id": "173936c2",
   "metadata": {},
   "outputs": [
    {
     "data": {
      "text/plain": [
       "[100, 300, 300, 400, 200, 'sana', 'adeeba', 'saima']"
      ]
     },
     "execution_count": 11,
     "metadata": {},
     "output_type": "execute_result"
    }
   ],
   "source": [
    "lastlist"
   ]
  },
  {
   "cell_type": "code",
   "execution_count": 12,
   "id": "f88d2e1b",
   "metadata": {},
   "outputs": [
    {
     "data": {
      "text/plain": [
       "2"
      ]
     },
     "execution_count": 12,
     "metadata": {},
     "output_type": "execute_result"
    }
   ],
   "source": [
    "lastlist.count(300)"
   ]
  },
  {
   "cell_type": "code",
   "execution_count": 16,
   "id": "fa1c473d",
   "metadata": {},
   "outputs": [
    {
     "name": "stdout",
     "output_type": "stream",
     "text": [
      "[1, 2, 3, 'apple', 4.5]\n",
      "['G', 'F', 'G']\n"
     ]
    }
   ],
   "source": [
    "# Using list() Constructor\n",
    "a = list((1, 2, 3, 'apple', 4.5))  \n",
    "print(a)\n",
    "\n",
    "b = list(\"GFG\")\n",
    "print(b)"
   ]
  },
  {
   "cell_type": "code",
   "execution_count": 17,
   "id": "901c5844",
   "metadata": {},
   "outputs": [
    {
     "name": "stdout",
     "output_type": "stream",
     "text": [
      "[10, 20, 30, 'fairoz', 'sana', 7.8]\n",
      "<class 'list'>\n"
     ]
    }
   ],
   "source": [
    "Eesa=list((10,20,30,'fairoz','sana',7.8))\n",
    "print(Eesa)\n",
    "print(type(Eesa))"
   ]
  },
  {
   "cell_type": "code",
   "execution_count": 18,
   "id": "cd913275",
   "metadata": {},
   "outputs": [
    {
     "name": "stdout",
     "output_type": "stream",
     "text": [
      "['E', 'D', 'E', 'D']\n",
      "<class 'list'>\n"
     ]
    }
   ],
   "source": [
    "b=list(\"EDED\")\n",
    "print(b)\n",
    "print(type(b))"
   ]
  },
  {
   "cell_type": "code",
   "execution_count": 19,
   "id": "c12037b2",
   "metadata": {},
   "outputs": [
    {
     "name": "stdout",
     "output_type": "stream",
     "text": [
      "[2, 2, 2, 2, 2]\n",
      "[0, 0, 0, 0, 0, 0, 0]\n"
     ]
    }
   ],
   "source": [
    "'''3. Creating List with Repeated Elements\n",
    " We can use the multiplication operator * to create a list with repeated items.\n",
    "\n",
    " Example: Creating lists with repeated values.'''\n",
    "a = [2] * 5\n",
    "b = [0] * 7\n",
    "\n",
    "print(a)\n",
    "print(b)"
   ]
  },
  {
   "cell_type": "code",
   "execution_count": 20,
   "id": "2969e241",
   "metadata": {},
   "outputs": [
    {
     "name": "stdout",
     "output_type": "stream",
     "text": [
      "10\n",
      "50\n",
      "[20, 30, 40]\n"
     ]
    }
   ],
   "source": [
    "\"\"\"Accessing List Elements\n",
    "Elements in a list are accessed using indexing. Python indexes start at 0, so a[0] gives the first element. Negative indexes allow access from the end (e.g., -1 gives the last element).\n",
    "\n",
    "Example: Accessing first, last and slicing elements.\"\"\"\n",
    "a = [10, 20, 30, 40, 50]\n",
    "print(a[0])    \n",
    "print(a[-1])\n",
    "print(a[1:4])   # elements from index 1 to 3"
   ]
  },
  {
   "cell_type": "markdown",
   "id": "6dd211a7",
   "metadata": {},
   "source": [
    "Adding Elements into List\n",
    "We can add elements to a list using the following methods:\n",
    "\n",
    "append(): Adds an element at the end of the list.\n",
    "extend(): Adds multiple elements to the end of the list.\n",
    "insert(): Adds an element at a specific position.\n",
    "clear(): removes all items.\n",
    "Example: Demonstrating append, insert, clear and extend."
   ]
  },
  {
   "cell_type": "code",
   "execution_count": 21,
   "id": "53a74f24",
   "metadata": {},
   "outputs": [
    {
     "name": "stdout",
     "output_type": "stream",
     "text": [
      "After append(10): [10]\n",
      "After insert(0, 5): [5, 10]\n",
      "After extend([15, 20, 25]): [5, 10, 15, 20, 25]\n",
      "After clear(): []\n"
     ]
    }
   ],
   "source": [
    "a = []\n",
    "\n",
    "a.append(10)  \n",
    "print(\"After append(10):\", a)  \n",
    "\n",
    "a.insert(0, 5)\n",
    "print(\"After insert(0, 5):\", a) \n",
    "\n",
    "a.extend([15, 20, 25])  \n",
    "print(\"After extend([15, 20, 25]):\", a) \n",
    "\n",
    "a.clear()\n",
    "print(\"After clear():\", a)"
   ]
  },
  {
   "cell_type": "code",
   "execution_count": 22,
   "id": "4fae059f",
   "metadata": {},
   "outputs": [
    {
     "name": "stdout",
     "output_type": "stream",
     "text": [
      "[10, 25, 30, 40, 50]\n"
     ]
    }
   ],
   "source": [
    "'''Updating Elements into List\n",
    "Since lists are mutable, we can update elements by accessing them via their index.\n",
    "\n",
    "Example: Updating the second element.'''\n",
    "a = [10, 20, 30, 40, 50]\n",
    "a[1] = 25 \n",
    "print(a)\n"
   ]
  },
  {
   "cell_type": "code",
   "execution_count": 23,
   "id": "f222205a",
   "metadata": {},
   "outputs": [
    {
     "name": "stdout",
     "output_type": "stream",
     "text": [
      "After remove(30): [10, 20, 40, 50]\n",
      "Popped element: 20\n",
      "After pop(1): [10, 40, 50]\n",
      "After del a[0]: [40, 50]\n"
     ]
    }
   ],
   "source": [
    "\"\"\"Removing Elements from List\n",
    "We can remove elements from a list using:\n",
    "\n",
    "remove(): Removes the first occurrence of an element.\n",
    "pop(): Removes the element at a specific index or the last element if no index is specified.\n",
    "del statement: Deletes an element at a specified index.\n",
    "Example: Demonstrating remove, pop and del.\"\"\"\n",
    "a = [10, 20, 30, 40, 50]\n",
    "\n",
    "a.remove(30)  \n",
    "print(\"After remove(30):\", a)\n",
    "\n",
    "popped_val = a.pop(1)  \n",
    "print(\"Popped element:\", popped_val)\n",
    "print(\"After pop(1):\", a) \n",
    "\n",
    "del a[0]  \n",
    "print(\"After del a[0]:\", a)"
   ]
  },
  {
   "cell_type": "code",
   "execution_count": 24,
   "id": "277b6a55",
   "metadata": {},
   "outputs": [
    {
     "name": "stdout",
     "output_type": "stream",
     "text": [
      "apple\n",
      "banana\n",
      "cherry\n"
     ]
    }
   ],
   "source": [
    "\"\"\"Iterating Over Lists\n",
    "We can iterate over lists using loops, which is useful for performing actions on each item.\n",
    "\n",
    "Example: Iterating with a for loop.\"\"\"\n",
    "a = ['apple', 'banana', 'cherry']\n",
    "for item in a:\n",
    "    print(item)"
   ]
  },
  {
   "cell_type": "code",
   "execution_count": 25,
   "id": "1c389b4b",
   "metadata": {},
   "outputs": [
    {
     "name": "stdout",
     "output_type": "stream",
     "text": [
      "6\n"
     ]
    }
   ],
   "source": [
    "\"\"\"Nested Lists\n",
    "A nested list is a list within another list, which is useful for representing matrices or tables. We can access nested elements by chaining indexes.\n",
    "\n",
    "Example: Accessing elements of a nested list (2D list).\"\"\"\n",
    "matrix = [ [1, 2, 3],\n",
    "           [4, 5, 6],\n",
    "           [7, 8, 9] ]\n",
    "print(matrix[1][2])"
   ]
  }
 ],
 "metadata": {
  "kernelspec": {
   "display_name": "base",
   "language": "python",
   "name": "python3"
  },
  "language_info": {
   "codemirror_mode": {
    "name": "ipython",
    "version": 3
   },
   "file_extension": ".py",
   "mimetype": "text/x-python",
   "name": "python",
   "nbconvert_exporter": "python",
   "pygments_lexer": "ipython3",
   "version": "3.12.7"
  }
 },
 "nbformat": 4,
 "nbformat_minor": 5
}
