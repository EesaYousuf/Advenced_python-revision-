{
 "cells": [
  {
   "cell_type": "markdown",
   "id": "150e004e",
   "metadata": {},
   "source": [
    "lists"
   ]
  },
  {
   "cell_type": "code",
   "execution_count": 1,
   "id": "4ab22a6b",
   "metadata": {},
   "outputs": [
    {
     "name": "stdout",
     "output_type": "stream",
     "text": [
      "[10, 20, 30, 43, 'sana', 'Allah', 12]\n"
     ]
    }
   ],
   "source": [
    "mylist=[10,20,30,43,'sana','Allah',12]\n",
    "print(mylist)"
   ]
  },
  {
   "cell_type": "markdown",
   "id": "f91f6d24",
   "metadata": {},
   "source": [
    "<!-- operations in list -->"
   ]
  },
  {
   "cell_type": "code",
   "execution_count": 3,
   "id": "d9743cf0",
   "metadata": {},
   "outputs": [
    {
     "name": "stdout",
     "output_type": "stream",
     "text": [
      "[10, 20, 30, 43, 'sana', 'Allah', 12, 1000]\n"
     ]
    }
   ],
   "source": [
    "mylist.append(1000)\n",
    "print(mylist)"
   ]
  },
  {
   "cell_type": "code",
   "execution_count": 4,
   "id": "d85f60a2",
   "metadata": {},
   "outputs": [
    {
     "data": {
      "text/plain": [
       "[10, 20, 30, 43, 'sana', 200, 'Allah', 12, 1000]"
      ]
     },
     "execution_count": 4,
     "metadata": {},
     "output_type": "execute_result"
    }
   ],
   "source": [
    "mylist.insert(5,200)\n",
    "mylist"
   ]
  },
  {
   "cell_type": "code",
   "execution_count": 5,
   "id": "d9c55910",
   "metadata": {},
   "outputs": [
    {
     "data": {
      "text/plain": [
       "[10, 20, 30, 43, 'sana', 200, 'Allah', 12, 1000]"
      ]
     },
     "execution_count": 5,
     "metadata": {},
     "output_type": "execute_result"
    }
   ],
   "source": [
    "mylist[2:5]\n",
    "mylist"
   ]
  },
  {
   "cell_type": "code",
   "execution_count": 10,
   "id": "1d6acbe3",
   "metadata": {},
   "outputs": [],
   "source": [
    "lastlist=[100,300,300,400,200,'sana','adeeba','saima']"
   ]
  },
  {
   "cell_type": "code",
   "execution_count": 11,
   "id": "173936c2",
   "metadata": {},
   "outputs": [
    {
     "data": {
      "text/plain": [
       "[100, 300, 300, 400, 200, 'sana', 'adeeba', 'saima']"
      ]
     },
     "execution_count": 11,
     "metadata": {},
     "output_type": "execute_result"
    }
   ],
   "source": [
    "lastlist"
   ]
  },
  {
   "cell_type": "code",
   "execution_count": 12,
   "id": "f88d2e1b",
   "metadata": {},
   "outputs": [
    {
     "data": {
      "text/plain": [
       "2"
      ]
     },
     "execution_count": 12,
     "metadata": {},
     "output_type": "execute_result"
    }
   ],
   "source": [
    "lastlist.count(300)"
   ]
  },
  {
   "cell_type": "code",
   "execution_count": null,
   "id": "fa1c473d",
   "metadata": {},
   "outputs": [],
   "source": []
  }
 ],
 "metadata": {
  "kernelspec": {
   "display_name": "base",
   "language": "python",
   "name": "python3"
  },
  "language_info": {
   "codemirror_mode": {
    "name": "ipython",
    "version": 3
   },
   "file_extension": ".py",
   "mimetype": "text/x-python",
   "name": "python",
   "nbconvert_exporter": "python",
   "pygments_lexer": "ipython3",
   "version": "3.12.7"
  }
 },
 "nbformat": 4,
 "nbformat_minor": 5
}
